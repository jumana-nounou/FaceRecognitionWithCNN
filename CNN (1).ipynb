{
  "nbformat": 4,
  "nbformat_minor": 0,
  "metadata": {
    "colab": {
      "provenance": []
    },
    "kernelspec": {
      "name": "python3",
      "display_name": "Python 3"
    },
    "language_info": {
      "name": "python"
    }
  },
  "cells": [
    {
      "cell_type": "code",
      "source": [
        "import numpy as np\n",
        "import cv2\n",
        "import pandas as pd\n",
        "import matplotlib.pyplot as plt\n",
        "from zipfile import ZipFile\n",
        "from PIL import Image\n",
        "from keras.preprocessing.image import ImageDataGenerator\n",
        "from keras.preprocessing import image\n",
        "import collections\n",
        "from google.colab.patches import cv2_imshow\n",
        "import glob\n",
        "from skimage.transform import resize\n",
        "import tensorflow as tf\n",
        "from sklearn.preprocessing import LabelEncoder\n",
        "from sklearn.model_selection import train_test_split\n",
        "from tensorflow.keras.models import Sequential\n",
        "from tensorflow.keras.layers import Conv2D, MaxPooling2D, Flatten, Dense, Dropout\n",
        "import seaborn as sns\n",
        "import warnings\n",
        "warnings.filterwarnings('ignore')\n",
        "\n"
      ],
      "metadata": {
        "id": "Y6L_q6MSF8lT"
      },
      "execution_count": 21,
      "outputs": []
    },
    {
      "cell_type": "markdown",
      "source": [
        "Extracting the train and test datasets"
      ],
      "metadata": {
        "id": "4SdOdb4DeORf"
      }
    },
    {
      "cell_type": "code",
      "source": [
        "TrainFile = \"/content/data.zip\"\n",
        "\n",
        "with ZipFile(TrainFile, 'r') as zip:\n",
        "\tzip.printdir()\n",
        "\tprint('Extracting all the files now...')\n",
        "\tzip.extractall()\n",
        "\tprint('Done!')"
      ],
      "metadata": {
        "colab": {
          "base_uri": "https://localhost:8080/"
        },
        "id": "0E-q1OVSeATf",
        "outputId": "3ad3bbe0-532d-43f5-a571-2fbc4a42b7a7"
      },
      "execution_count": 2,
      "outputs": [
        {
          "output_type": "stream",
          "name": "stdout",
          "text": [
            "File Name                                             Modified             Size\n",
            "data/ammar/                                    2023-05-06 20:34:08            0\n",
            "data/ammar/WhatsApp Image 2023-05-06 at 4.36.45 PM.jpeg 2023-05-06 20:12:54       255221\n",
            "data/ammar/WhatsApp Image 2023-05-06 at 4.36.47 PM.jpeg 2023-05-06 20:13:12       222748\n",
            "data/farida/                                   2023-05-04 16:55:14            0\n",
            "data/farida/10.jpeg                            2023-04-29 17:32:36       154769\n",
            "data/farida/8.jpeg                             2023-04-29 17:32:44       191340\n",
            "data/farida/WhatsApp Image 2023-05-04 at 3.35.40 PM.jpeg 2023-05-04 15:38:24        67007\n",
            "data/farida/WhatsApp Image 2023-05-04 at 3.41.09 PM.jpeg 2023-05-04 15:41:30       243209\n",
            "data/joana/                                    2023-05-06 20:23:48            0\n",
            "data/joana/WhatsApp Image 2023-05-06 at 8.22.30 PM (1).jpeg 2023-05-06 20:23:06       122778\n",
            "data/joana/WhatsApp Image 2023-05-06 at 8.22.30 PM.jpeg 2023-05-06 20:23:00        81897\n",
            "data/joana/WhatsApp Image 2023-05-06 at 8.22.31 PM.jpeg 2023-05-06 20:23:08        13018\n",
            "data/jumana/                                   2023-05-04 15:38:06            0\n",
            "data/jumana/5.jpeg                             2023-04-29 17:34:02        91490\n",
            "data/jumana/6.jpeg                             2023-04-29 17:34:02        72694\n",
            "data/jumana/7.jpeg                             2023-04-29 17:34:02        82340\n",
            "data/jumana/WhatsApp Image 2022-02-18 at 5.57.32 PM.jpeg 2022-02-18 19:03:42       160873\n",
            "data/jumana/WhatsApp Image 2023-01-26 at 3.10.28 AM.jpeg 2023-01-26 04:10:48       145507\n",
            "data/khaled/                                   2023-05-04 15:41:08            0\n",
            "data/khaled/2.jpeg                             2023-04-29 17:48:08       197494\n",
            "data/khaled/3.jpeg                             2023-04-29 17:48:00       237067\n",
            "data/khaled/4.jpeg                             2023-04-29 17:47:54       185036\n",
            "data/khaled/WhatsApp Image 2023-05-04 at 3.40.45 PM.jpeg 2023-05-04 15:40:54        40477\n",
            "data/kroush/                                   2023-05-06 20:31:28            0\n",
            "data/kroush/13.jpeg                            2023-04-29 17:24:16        52161\n",
            "data/kroush/8.jpeg                             2023-04-29 17:24:16        48681\n",
            "data/maher/                                    2023-05-04 15:36:42            0\n",
            "data/maher/1 (2).jpeg                          2023-04-29 17:50:12       134063\n",
            "data/maher/1.jpeg                              2023-04-29 17:50:12        86203\n",
            "data/maher/2.jpeg                              2023-04-29 17:50:12       168060\n",
            "Extracting all the files now...\n",
            "Done!\n"
          ]
        }
      ]
    },
    {
      "cell_type": "markdown",
      "source": [
        "Haar Cascade function: takes an image finds the faces and returns them cropped \n"
      ],
      "metadata": {
        "id": "0LAEXUQdeTd7"
      }
    },
    {
      "cell_type": "code",
      "source": [
        "def haarCascade(img):\n",
        " face_cascade = cv2.CascadeClassifier(cv2.data.haarcascades + 'haarcascade_frontalface_default.xml')\n",
        " eye_cascade = cv2.CascadeClassifier(cv2.data.haarcascades + 'haarcascade_eye.xml')\n",
        " gray = cv2.cvtColor(img, cv2.COLOR_BGR2GRAY)\n",
        " faces = face_cascade.detectMultiScale(gray, 1.3, 5,minSize=(30, 30))\n",
        " \n",
        " for (x,y,w,h) in faces:\n",
        "    img = cv2.rectangle(img,(x,y),(x+w,y+h),(0,255,0),2)\n",
        "    roi_color = img[y:y+h, x:x+w]\n",
        "    return roi_color\n"
      ],
      "metadata": {
        "id": "X5XNsqz2eJca"
      },
      "execution_count": 3,
      "outputs": []
    },
    {
      "cell_type": "markdown",
      "source": [
        "This Loop iterates over the dataset and returns a file called faces that has all the saved images after applying the haar cascade algorithm."
      ],
      "metadata": {
        "id": "Xx-DV6uuEbSM"
      }
    },
    {
      "cell_type": "code",
      "source": [
        "path1 = \"/content/data/*/*\"\n",
        "arr=[]\n",
        "target_face_size=(388,388)\n",
        "\n",
        "path='/content/faces/'\n",
        "i=0\n",
        "for file in glob.glob(path1):\n",
        "  if('jumana' in file):\n",
        "    cv2.imwrite(str(path)+'jumana/'+str(i) + '.jpg',resize(haarCascade(cv2.imread(file),), target_face_size))\n",
        "    i=i+1\n",
        "  elif('farida' in file):\n",
        "     cv2.imwrite(str(path)+'farida/'+str(i) + '.jpg',resize(haarCascade(cv2.imread(file),), target_face_size))\n",
        "     i=i+1\n",
        "  elif('maher'in file):\n",
        "    cv2.imwrite(str(path)+'maher/'+str(i) + '.jpg',resize(haarCascade(cv2.imread(file),), target_face_size))\n",
        "    i=i+1\n",
        "  elif('khaled'in file):\n",
        "     cv2.imwrite(str(path)+'khaled/'+str(i) + '.jpg',resize(haarCascade(cv2.imread(file),), target_face_size))\n",
        "     i=i+1\n",
        "  elif('kroush'in file):\n",
        "     cv2.imwrite(str(path)+'kroush/'+str(i) + '.jpg',resize(haarCascade(cv2.imread(file),), target_face_size))\n",
        "     i=i+1\n",
        "  elif('ammar'in file):\n",
        "     cv2.imwrite(str(path)+'ammar/'+str(i) + '.jpg',resize(haarCascade(cv2.imread(file),), target_face_size))\n",
        "     i=i+1\n",
        "  elif('joana'in file):\n",
        "     cv2.imwrite(str(path)+'joana/'+str(i) + '.jpg',resize(haarCascade(cv2.imread(file),), target_face_size))\n",
        "     i=i+1\n",
        " "
      ],
      "metadata": {
        "id": "ejV_cCaXbaze"
      },
      "execution_count": 4,
      "outputs": []
    },
    {
      "cell_type": "markdown",
      "source": [
        "This returns a train dataset that has tensorflow applied on it."
      ],
      "metadata": {
        "id": "tGxSB594E_lD"
      }
    },
    {
      "cell_type": "code",
      "source": [
        "train_ds= tf.keras.utils.image_dataset_from_directory('faces/',validation_split=0.2,subset='training',seed=123,image_size=(338,338),batch_size=2)"
      ],
      "metadata": {
        "colab": {
          "base_uri": "https://localhost:8080/"
        },
        "id": "F-x6_jVo9MyG",
        "outputId": "fe086e05-0e52-4670-f074-f6858db6b42c"
      },
      "execution_count": 5,
      "outputs": [
        {
          "output_type": "stream",
          "name": "stdout",
          "text": [
            "Found 23 files belonging to 8 classes.\n",
            "Using 19 files for training.\n"
          ]
        }
      ]
    },
    {
      "cell_type": "markdown",
      "source": [
        "This returns a validation dataset that has tensorflow applied on it"
      ],
      "metadata": {
        "id": "XWXJeZx6Fgiu"
      }
    },
    {
      "cell_type": "code",
      "source": [
        "val_ds= tf.keras.utils.image_dataset_from_directory('faces/',validation_split=0.2,subset='validation',seed=123,image_size=(338,338),batch_size=2)"
      ],
      "metadata": {
        "colab": {
          "base_uri": "https://localhost:8080/"
        },
        "id": "i3hB7p_K-hF3",
        "outputId": "87839bd4-55d7-455e-f68d-271d6b4f30b0"
      },
      "execution_count": 6,
      "outputs": [
        {
          "output_type": "stream",
          "name": "stdout",
          "text": [
            "Found 23 files belonging to 8 classes.\n",
            "Using 4 files for validation.\n"
          ]
        }
      ]
    },
    {
      "cell_type": "markdown",
      "source": [
        "**CNN**"
      ],
      "metadata": {
        "id": "EXUjlF-tN6hX"
      }
    },
    {
      "cell_type": "markdown",
      "source": [
        "This should be the architecture of the Convolutional neural network"
      ],
      "metadata": {
        "id": "fzpde34FFpAW"
      }
    },
    {
      "cell_type": "code",
      "source": [
        "model = Sequential()\n",
        "model.add(Conv2D(32, (3, 3), activation='relu', input_shape=(338, 338, 3)))\n",
        "model.add(MaxPooling2D((2, 2)))\n",
        "model.add(Conv2D(64, (3, 3), activation='relu'))\n",
        "model.add(MaxPooling2D((2, 2)))\n",
        "model.add(Conv2D(128, (3, 3), activation='relu'))\n",
        "model.add(MaxPooling2D((2, 2)))\n",
        "model.add(Flatten())\n",
        "model.add(Dense(128, activation='relu'))\n",
        "model.add(Dropout(0.5))\n",
        "model.add(Dense(8, activation='softmax'))"
      ],
      "metadata": {
        "id": "LypSP4DtAfNi"
      },
      "execution_count": 37,
      "outputs": []
    },
    {
      "cell_type": "code",
      "source": [
        "model.compile(optimizer='adam',\n",
        "              loss='sparse_categorical_crossentropy',\n",
        "              metrics=['accuracy'])"
      ],
      "metadata": {
        "id": "MSnXCQfGAjQk"
      },
      "execution_count": 38,
      "outputs": []
    },
    {
      "cell_type": "markdown",
      "source": [
        "Training the model"
      ],
      "metadata": {
        "id": "0yYnhbMiGBkK"
      }
    },
    {
      "cell_type": "code",
      "source": [
        "history = model.fit(train_ds,validation_data=val_ds, epochs=7)"
      ],
      "metadata": {
        "colab": {
          "base_uri": "https://localhost:8080/"
        },
        "id": "p1NStBVjAlqx",
        "outputId": "b7f62fda-1a7e-48e4-c97f-78efc1dfb52e"
      },
      "execution_count": 42,
      "outputs": [
        {
          "output_type": "stream",
          "name": "stdout",
          "text": [
            "Epoch 1/7\n",
            "10/10 [==============================] - 13s 1s/step - loss: 0.1069 - accuracy: 1.0000 - val_loss: 3.7994 - val_accuracy: 0.2500\n",
            "Epoch 2/7\n",
            "10/10 [==============================] - 13s 1s/step - loss: 0.0368 - accuracy: 1.0000 - val_loss: 3.2301 - val_accuracy: 0.2500\n",
            "Epoch 3/7\n",
            "10/10 [==============================] - 16s 2s/step - loss: 0.0148 - accuracy: 1.0000 - val_loss: 3.6801 - val_accuracy: 0.5000\n",
            "Epoch 4/7\n",
            "10/10 [==============================] - 13s 1s/step - loss: 0.0070 - accuracy: 1.0000 - val_loss: 5.4745 - val_accuracy: 0.5000\n",
            "Epoch 5/7\n",
            "10/10 [==============================] - 13s 1s/step - loss: 0.6080 - accuracy: 0.8947 - val_loss: 7.0374 - val_accuracy: 0.2500\n",
            "Epoch 6/7\n",
            "10/10 [==============================] - 13s 1s/step - loss: 0.3380 - accuracy: 0.9474 - val_loss: 4.6173 - val_accuracy: 0.2500\n",
            "Epoch 7/7\n",
            "10/10 [==============================] - 14s 1s/step - loss: 0.1295 - accuracy: 0.9474 - val_loss: 3.5510 - val_accuracy: 0.2500\n"
          ]
        }
      ]
    },
    {
      "cell_type": "markdown",
      "source": [
        "Calculating the prediction"
      ],
      "metadata": {
        "id": "dUDnHetZGG-g"
      }
    },
    {
      "cell_type": "code",
      "source": [
        "pred = model.predict(train_ds)\n",
        "tf.where(pred < 0.5 , 0 , 1)"
      ],
      "metadata": {
        "colab": {
          "base_uri": "https://localhost:8080/"
        },
        "id": "6rvUBgbyAvy1",
        "outputId": "69a3fe3e-5aa1-408a-e393-2ca0c98ecf1c"
      },
      "execution_count": 46,
      "outputs": [
        {
          "output_type": "stream",
          "name": "stdout",
          "text": [
            "10/10 [==============================] - 1s 138ms/step\n"
          ]
        },
        {
          "output_type": "execute_result",
          "data": {
            "text/plain": [
              "<tf.Tensor: shape=(19, 8), dtype=int32, numpy=\n",
              "array([[0, 0, 0, 0, 1, 0, 0, 0],\n",
              "       [0, 1, 0, 0, 0, 0, 0, 0],\n",
              "       [0, 0, 0, 1, 0, 0, 0, 0],\n",
              "       [0, 0, 0, 0, 1, 0, 0, 0],\n",
              "       [0, 0, 1, 0, 0, 0, 0, 0],\n",
              "       [0, 0, 0, 0, 0, 1, 0, 0],\n",
              "       [0, 0, 0, 0, 0, 0, 1, 0],\n",
              "       [0, 0, 1, 0, 0, 0, 0, 0],\n",
              "       [0, 0, 0, 0, 0, 0, 1, 0],\n",
              "       [0, 0, 1, 0, 0, 0, 0, 0],\n",
              "       [0, 0, 0, 0, 0, 1, 0, 0],\n",
              "       [0, 0, 0, 0, 0, 1, 0, 0],\n",
              "       [0, 0, 0, 0, 0, 0, 0, 1],\n",
              "       [0, 0, 0, 0, 1, 0, 0, 0],\n",
              "       [0, 0, 0, 0, 0, 1, 0, 0],\n",
              "       [0, 0, 0, 1, 0, 0, 0, 0],\n",
              "       [0, 0, 0, 0, 0, 0, 0, 1],\n",
              "       [0, 0, 0, 0, 1, 0, 0, 0],\n",
              "       [0, 1, 0, 0, 0, 0, 0, 0]], dtype=int32)>"
            ]
          },
          "metadata": {},
          "execution_count": 46
        }
      ]
    },
    {
      "cell_type": "markdown",
      "source": [
        "Plot the loss and accuracy curves for training and validation "
      ],
      "metadata": {
        "id": "26qV_uBpGUas"
      }
    },
    {
      "cell_type": "code",
      "source": [
        "plt.plot(history.history['val_loss'], color='b', label=\"validation loss\")\n",
        "plt.title(\"Test Loss\")\n",
        "plt.xlabel(\"Number of Epochs\")\n",
        "plt.ylabel(\"Loss\")\n",
        "plt.legend()\n",
        "plt.show()"
      ],
      "metadata": {
        "colab": {
          "base_uri": "https://localhost:8080/",
          "height": 472
        },
        "id": "GzHt5xIrBNA3",
        "outputId": "cd5970c4-00a1-4896-88b5-4c46034def90"
      },
      "execution_count": 44,
      "outputs": [
        {
          "output_type": "display_data",
          "data": {
            "text/plain": [
              "<Figure size 640x480 with 1 Axes>"
            ],
            "image/png": "[encoded data removed]"
          },
          "metadata": {}
        }
      ]
    }
  ]
}